{
 "cells": [
  {
   "cell_type": "markdown",
   "id": "080e4fbc",
   "metadata": {},
   "source": [
    "Prompt:\n",
    "how to parse a text and then make ir code?"
   ]
  },
  {
   "cell_type": "markdown",
   "id": "b3a18b4b",
   "metadata": {},
   "source": [
    "Output:\n",
    "`pip install lark-parser llvmlite`"
   ]
  },
  {
   "cell_type": "code",
   "execution_count": 1,
   "id": "c7b46b49",
   "metadata": {},
   "outputs": [],
   "source": [
    "grammar = r\"\"\"\n",
    "start: expr\n",
    "\n",
    "?expr: expr \"+\" term -> add\n",
    "     | expr \"-\" term -> sub\n",
    "     | term\n",
    "\n",
    "?term: term \"*\" factor -> mul\n",
    "     | term \"/\" factor -> div\n",
    "     | factor\n",
    "\n",
    "?factor: NUMBER -> number\n",
    "       | \"(\" expr \")\"\n",
    "\n",
    "%import common.NUMBER\n",
    "%import common.WS\n",
    "%ignore WS\n",
    "\"\"\"\n"
   ]
  },
  {
   "cell_type": "code",
   "execution_count": 2,
   "id": "1641fef1",
   "metadata": {},
   "outputs": [],
   "source": [
    "from lark import Lark, Transformer, v_args\n",
    "\n",
    "expr_parser = Lark(grammar, parser=\"lalr\")\n"
   ]
  },
  {
   "cell_type": "code",
   "execution_count": 8,
   "id": "3828943e",
   "metadata": {},
   "outputs": [],
   "source": [
    "import llvmlite.ir as ir\n",
    "\n",
    "class ExprTransformer(Transformer):\n",
    "    def __init__(self):\n",
    "        self.builder = None\n",
    "        self.module = ir.Module(name=\"expr_module\")\n",
    "        self.func = None\n",
    "        self.create_main_function()\n",
    "\n",
    "    def create_main_function(self):\n",
    "        func_type = ir.FunctionType(ir.VoidType(), ())\n",
    "        self.func = ir.Function(self.module, func_type, name=\"main\")\n",
    "        entry_block = self.func.append_basic_block(name=\"entry\")\n",
    "        self.builder = ir.IRBuilder(entry_block)\n",
    "\n",
    "    @v_args(inline=True)\n",
    "    def add(self, *children):\n",
    "        return self.builder.fadd(children[0], children[1])\n",
    "\n",
    "    @v_args(inline=True)\n",
    "    def sub(self, *children):\n",
    "        return self.builder.fsub(children[0], children[1])\n",
    "\n",
    "    @v_args(inline=True)\n",
    "    def mul(self, *children):\n",
    "        return self.builder.fmul(children[0], children[1])\n",
    "\n",
    "    @v_args(inline=True)\n",
    "    def div(self, *children):\n",
    "        return self.builder.fdiv(children[0], children[1])\n",
    "\n",
    "    @v_args(inline=True)\n",
    "    def number(self, token):\n",
    "        return ir.Constant(ir.DoubleType(), float(token))\n",
    "\n",
    "    def start(self, children):\n",
    "        result = children[0]\n",
    "        print(\"Result:\", result)\n",
    "        self.builder.ret_void()\n",
    "        return self.module\n"
   ]
  },
  {
   "cell_type": "code",
   "execution_count": 9,
   "id": "a50e4bf2",
   "metadata": {},
   "outputs": [
    {
     "ename": "VisitError",
     "evalue": "Error trying to process rule \"mul\":\n\nExprTransformer.mul() takes 2 positional arguments but 3 were given",
     "output_type": "error",
     "traceback": [
      "\u001b[0;31m---------------------------------------------------------------------------\u001b[0m",
      "\u001b[0;31mTypeError\u001b[0m                                 Traceback (most recent call last)",
      "File \u001b[0;32m~/ChatGPT-Coding-Experiments/GPT-env/lib/python3.10/site-packages/lark/visitors.py:91\u001b[0m, in \u001b[0;36mTransformer._call_userfunc\u001b[0;34m(self, tree, new_children)\u001b[0m\n\u001b[1;32m     90\u001b[0m \u001b[38;5;28;01mif\u001b[39;00m wrapper \u001b[38;5;129;01mis\u001b[39;00m \u001b[38;5;129;01mnot\u001b[39;00m \u001b[38;5;28;01mNone\u001b[39;00m:\n\u001b[0;32m---> 91\u001b[0m     \u001b[38;5;28;01mreturn\u001b[39;00m \u001b[43mf\u001b[49m\u001b[38;5;241;43m.\u001b[39;49m\u001b[43mvisit_wrapper\u001b[49m\u001b[43m(\u001b[49m\u001b[43mf\u001b[49m\u001b[43m,\u001b[49m\u001b[43m \u001b[49m\u001b[43mtree\u001b[49m\u001b[38;5;241;43m.\u001b[39;49m\u001b[43mdata\u001b[49m\u001b[43m,\u001b[49m\u001b[43m \u001b[49m\u001b[43mchildren\u001b[49m\u001b[43m,\u001b[49m\u001b[43m \u001b[49m\u001b[43mtree\u001b[49m\u001b[38;5;241;43m.\u001b[39;49m\u001b[43mmeta\u001b[49m\u001b[43m)\u001b[49m\n\u001b[1;32m     92\u001b[0m \u001b[38;5;28;01melse\u001b[39;00m:\n",
      "File \u001b[0;32m~/ChatGPT-Coding-Experiments/GPT-env/lib/python3.10/site-packages/lark/visitors.py:443\u001b[0m, in \u001b[0;36m_vargs_inline\u001b[0;34m(f, _data, children, _meta)\u001b[0m\n\u001b[1;32m    442\u001b[0m \u001b[38;5;28;01mdef\u001b[39;00m \u001b[38;5;21m_vargs_inline\u001b[39m(f, _data, children, _meta):\n\u001b[0;32m--> 443\u001b[0m     \u001b[38;5;28;01mreturn\u001b[39;00m \u001b[43mf\u001b[49m\u001b[43m(\u001b[49m\u001b[38;5;241;43m*\u001b[39;49m\u001b[43mchildren\u001b[49m\u001b[43m)\u001b[49m\n",
      "File \u001b[0;32m~/ChatGPT-Coding-Experiments/GPT-env/lib/python3.10/site-packages/lark/visitors.py:427\u001b[0m, in \u001b[0;36m_visitor_args_func_dec.<locals>.create_decorator.<locals>.f\u001b[0;34m(self, *args, **kwargs)\u001b[0m\n\u001b[1;32m    426\u001b[0m \u001b[38;5;28;01mdef\u001b[39;00m \u001b[38;5;21mf\u001b[39m(\u001b[38;5;28mself\u001b[39m, \u001b[38;5;241m*\u001b[39margs, \u001b[38;5;241m*\u001b[39m\u001b[38;5;241m*\u001b[39mkwargs):\n\u001b[0;32m--> 427\u001b[0m     \u001b[38;5;28;01mreturn\u001b[39;00m \u001b[43m_f\u001b[49m\u001b[43m(\u001b[49m\u001b[38;5;28;43mself\u001b[39;49m\u001b[43m,\u001b[49m\u001b[43m \u001b[49m\u001b[38;5;241;43m*\u001b[39;49m\u001b[43margs\u001b[49m\u001b[43m,\u001b[49m\u001b[43m \u001b[49m\u001b[38;5;241;43m*\u001b[39;49m\u001b[38;5;241;43m*\u001b[39;49m\u001b[43mkwargs\u001b[49m\u001b[43m)\u001b[49m\n",
      "\u001b[0;31mTypeError\u001b[0m: ExprTransformer.mul() takes 2 positional arguments but 3 were given",
      "\nDuring handling of the above exception, another exception occurred:\n",
      "\u001b[0;31mVisitError\u001b[0m                                Traceback (most recent call last)",
      "Cell \u001b[0;32mIn[9], line 8\u001b[0m\n\u001b[1;32m      6\u001b[0m \u001b[38;5;66;03m# Generate LLVM IR\u001b[39;00m\n\u001b[1;32m      7\u001b[0m expr_transformer \u001b[38;5;241m=\u001b[39m ExprTransformer()\n\u001b[0;32m----> 8\u001b[0m llvm_module \u001b[38;5;241m=\u001b[39m \u001b[43mexpr_transformer\u001b[49m\u001b[38;5;241;43m.\u001b[39;49m\u001b[43mtransform\u001b[49m\u001b[43m(\u001b[49m\u001b[43mparse_tree\u001b[49m\u001b[43m)\u001b[49m\n\u001b[1;32m     10\u001b[0m \u001b[38;5;28mprint\u001b[39m(\u001b[38;5;124m\"\u001b[39m\u001b[38;5;124mGenerated LLVM IR:\u001b[39m\u001b[38;5;124m\"\u001b[39m)\n\u001b[1;32m     11\u001b[0m \u001b[38;5;28mprint\u001b[39m(llvm_module)\n",
      "File \u001b[0;32m~/ChatGPT-Coding-Experiments/GPT-env/lib/python3.10/site-packages/lark/visitors.py:130\u001b[0m, in \u001b[0;36mTransformer.transform\u001b[0;34m(self, tree)\u001b[0m\n\u001b[1;32m    128\u001b[0m \u001b[38;5;28;01mdef\u001b[39;00m \u001b[38;5;21mtransform\u001b[39m(\u001b[38;5;28mself\u001b[39m, tree):\n\u001b[1;32m    129\u001b[0m     \u001b[38;5;124m\"\u001b[39m\u001b[38;5;124mTransform the given tree, and return the final result\u001b[39m\u001b[38;5;124m\"\u001b[39m\n\u001b[0;32m--> 130\u001b[0m     \u001b[38;5;28;01mreturn\u001b[39;00m \u001b[38;5;28;43mself\u001b[39;49m\u001b[38;5;241;43m.\u001b[39;49m\u001b[43m_transform_tree\u001b[49m\u001b[43m(\u001b[49m\u001b[43mtree\u001b[49m\u001b[43m)\u001b[49m\n",
      "File \u001b[0;32m~/ChatGPT-Coding-Experiments/GPT-env/lib/python3.10/site-packages/lark/visitors.py:125\u001b[0m, in \u001b[0;36mTransformer._transform_tree\u001b[0;34m(self, tree)\u001b[0m\n\u001b[1;32m    124\u001b[0m \u001b[38;5;28;01mdef\u001b[39;00m \u001b[38;5;21m_transform_tree\u001b[39m(\u001b[38;5;28mself\u001b[39m, tree):\n\u001b[0;32m--> 125\u001b[0m     children \u001b[38;5;241m=\u001b[39m \u001b[38;5;28;43mlist\u001b[39;49m\u001b[43m(\u001b[49m\u001b[38;5;28;43mself\u001b[39;49m\u001b[38;5;241;43m.\u001b[39;49m\u001b[43m_transform_children\u001b[49m\u001b[43m(\u001b[49m\u001b[43mtree\u001b[49m\u001b[38;5;241;43m.\u001b[39;49m\u001b[43mchildren\u001b[49m\u001b[43m)\u001b[49m\u001b[43m)\u001b[49m\n\u001b[1;32m    126\u001b[0m     \u001b[38;5;28;01mreturn\u001b[39;00m \u001b[38;5;28mself\u001b[39m\u001b[38;5;241m.\u001b[39m_call_userfunc(tree, children)\n",
      "File \u001b[0;32m~/ChatGPT-Coding-Experiments/GPT-env/lib/python3.10/site-packages/lark/visitors.py:116\u001b[0m, in \u001b[0;36mTransformer._transform_children\u001b[0;34m(self, children)\u001b[0m\n\u001b[1;32m    114\u001b[0m \u001b[38;5;28;01mtry\u001b[39;00m:\n\u001b[1;32m    115\u001b[0m     \u001b[38;5;28;01mif\u001b[39;00m \u001b[38;5;28misinstance\u001b[39m(c, Tree):\n\u001b[0;32m--> 116\u001b[0m         \u001b[38;5;28;01myield\u001b[39;00m \u001b[38;5;28;43mself\u001b[39;49m\u001b[38;5;241;43m.\u001b[39;49m\u001b[43m_transform_tree\u001b[49m\u001b[43m(\u001b[49m\u001b[43mc\u001b[49m\u001b[43m)\u001b[49m\n\u001b[1;32m    117\u001b[0m     \u001b[38;5;28;01melif\u001b[39;00m \u001b[38;5;28mself\u001b[39m\u001b[38;5;241m.\u001b[39m__visit_tokens__ \u001b[38;5;129;01mand\u001b[39;00m \u001b[38;5;28misinstance\u001b[39m(c, Token):\n\u001b[1;32m    118\u001b[0m         \u001b[38;5;28;01myield\u001b[39;00m \u001b[38;5;28mself\u001b[39m\u001b[38;5;241m.\u001b[39m_call_userfunc_token(c)\n",
      "File \u001b[0;32m~/ChatGPT-Coding-Experiments/GPT-env/lib/python3.10/site-packages/lark/visitors.py:125\u001b[0m, in \u001b[0;36mTransformer._transform_tree\u001b[0;34m(self, tree)\u001b[0m\n\u001b[1;32m    124\u001b[0m \u001b[38;5;28;01mdef\u001b[39;00m \u001b[38;5;21m_transform_tree\u001b[39m(\u001b[38;5;28mself\u001b[39m, tree):\n\u001b[0;32m--> 125\u001b[0m     children \u001b[38;5;241m=\u001b[39m \u001b[38;5;28;43mlist\u001b[39;49m\u001b[43m(\u001b[49m\u001b[38;5;28;43mself\u001b[39;49m\u001b[38;5;241;43m.\u001b[39;49m\u001b[43m_transform_children\u001b[49m\u001b[43m(\u001b[49m\u001b[43mtree\u001b[49m\u001b[38;5;241;43m.\u001b[39;49m\u001b[43mchildren\u001b[49m\u001b[43m)\u001b[49m\u001b[43m)\u001b[49m\n\u001b[1;32m    126\u001b[0m     \u001b[38;5;28;01mreturn\u001b[39;00m \u001b[38;5;28mself\u001b[39m\u001b[38;5;241m.\u001b[39m_call_userfunc(tree, children)\n",
      "File \u001b[0;32m~/ChatGPT-Coding-Experiments/GPT-env/lib/python3.10/site-packages/lark/visitors.py:116\u001b[0m, in \u001b[0;36mTransformer._transform_children\u001b[0;34m(self, children)\u001b[0m\n\u001b[1;32m    114\u001b[0m \u001b[38;5;28;01mtry\u001b[39;00m:\n\u001b[1;32m    115\u001b[0m     \u001b[38;5;28;01mif\u001b[39;00m \u001b[38;5;28misinstance\u001b[39m(c, Tree):\n\u001b[0;32m--> 116\u001b[0m         \u001b[38;5;28;01myield\u001b[39;00m \u001b[38;5;28;43mself\u001b[39;49m\u001b[38;5;241;43m.\u001b[39;49m\u001b[43m_transform_tree\u001b[49m\u001b[43m(\u001b[49m\u001b[43mc\u001b[49m\u001b[43m)\u001b[49m\n\u001b[1;32m    117\u001b[0m     \u001b[38;5;28;01melif\u001b[39;00m \u001b[38;5;28mself\u001b[39m\u001b[38;5;241m.\u001b[39m__visit_tokens__ \u001b[38;5;129;01mand\u001b[39;00m \u001b[38;5;28misinstance\u001b[39m(c, Token):\n\u001b[1;32m    118\u001b[0m         \u001b[38;5;28;01myield\u001b[39;00m \u001b[38;5;28mself\u001b[39m\u001b[38;5;241m.\u001b[39m_call_userfunc_token(c)\n",
      "File \u001b[0;32m~/ChatGPT-Coding-Experiments/GPT-env/lib/python3.10/site-packages/lark/visitors.py:126\u001b[0m, in \u001b[0;36mTransformer._transform_tree\u001b[0;34m(self, tree)\u001b[0m\n\u001b[1;32m    124\u001b[0m \u001b[38;5;28;01mdef\u001b[39;00m \u001b[38;5;21m_transform_tree\u001b[39m(\u001b[38;5;28mself\u001b[39m, tree):\n\u001b[1;32m    125\u001b[0m     children \u001b[38;5;241m=\u001b[39m \u001b[38;5;28mlist\u001b[39m(\u001b[38;5;28mself\u001b[39m\u001b[38;5;241m.\u001b[39m_transform_children(tree\u001b[38;5;241m.\u001b[39mchildren))\n\u001b[0;32m--> 126\u001b[0m     \u001b[38;5;28;01mreturn\u001b[39;00m \u001b[38;5;28;43mself\u001b[39;49m\u001b[38;5;241;43m.\u001b[39;49m\u001b[43m_call_userfunc\u001b[49m\u001b[43m(\u001b[49m\u001b[43mtree\u001b[49m\u001b[43m,\u001b[49m\u001b[43m \u001b[49m\u001b[43mchildren\u001b[49m\u001b[43m)\u001b[49m\n",
      "File \u001b[0;32m~/ChatGPT-Coding-Experiments/GPT-env/lib/python3.10/site-packages/lark/visitors.py:97\u001b[0m, in \u001b[0;36mTransformer._call_userfunc\u001b[0;34m(self, tree, new_children)\u001b[0m\n\u001b[1;32m     95\u001b[0m     \u001b[38;5;28;01mraise\u001b[39;00m\n\u001b[1;32m     96\u001b[0m \u001b[38;5;28;01mexcept\u001b[39;00m \u001b[38;5;167;01mException\u001b[39;00m \u001b[38;5;28;01mas\u001b[39;00m e:\n\u001b[0;32m---> 97\u001b[0m     \u001b[38;5;28;01mraise\u001b[39;00m VisitError(tree\u001b[38;5;241m.\u001b[39mdata, tree, e)\n",
      "\u001b[0;31mVisitError\u001b[0m: Error trying to process rule \"mul\":\n\nExprTransformer.mul() takes 2 positional arguments but 3 were given"
     ]
    }
   ],
   "source": [
    "input_expr = \"3.0 * (2.0 + 4.0) / 2.0\"\n",
    "\n",
    "# Parse the input text\n",
    "parse_tree = expr_parser.parse(input_expr)\n",
    "\n",
    "# Generate LLVM IR\n",
    "expr_transformer = ExprTransformer()\n",
    "llvm_module = expr_transformer.transform(parse_tree)\n",
    "\n",
    "print(\"Generated LLVM IR:\")\n",
    "print(llvm_module)\n"
   ]
  },
  {
   "cell_type": "markdown",
   "id": "aa40cadc",
   "metadata": {},
   "source": [
    "Prompt:\n",
    "ExprTransformer.add() takes 2 positional arguments but 3 were given"
   ]
  },
  {
   "cell_type": "code",
   "execution_count": 5,
   "id": "3b5ec052",
   "metadata": {},
   "outputs": [],
   "source": [
    "import llvmlite.ir as ir\n",
    "\n",
    "class ExprTransformer(Transformer):\n",
    "    def __init__(self):\n",
    "        self.builder = None\n",
    "        self.module = ir.Module(name=\"expr_module\")\n",
    "        self.func = None\n",
    "        self.create_main_function()\n",
    "\n",
    "    def create_main_function(self):\n",
    "        func_type = ir.FunctionType(ir.VoidType(), ())\n",
    "        self.func = ir.Function(self.module, func_type, name=\"main\")\n",
    "        entry_block = self.func.append_basic_block(name=\"entry\")\n",
    "        self.builder = ir.IRBuilder(entry_block)\n",
    "\n",
    "    def add(self, children):\n",
    "        return self.builder.fadd(children[0], children[1])\n",
    "\n",
    "    def sub(self, children):\n",
    "        return self.builder.fsub(children[0], children[1])\n",
    "\n",
    "    def mul(self, children):\n",
    "        return self.builder.fmul(children[0], children[1])\n",
    "\n",
    "    def div(self, children):\n",
    "        return self.builder.fdiv(children[0], children[1])\n",
    "\n",
    "    def number(self, token):\n",
    "        return ir.Constant(ir.DoubleType(), float(token[0]))\n",
    "\n",
    "    def start(self, children):\n",
    "        result = children[0]\n",
    "        print(\"Result:\", result)\n",
    "        self.builder.ret_void()\n",
    "        return self.module\n"
   ]
  },
  {
   "cell_type": "code",
   "execution_count": 6,
   "id": "3c45eadd",
   "metadata": {},
   "outputs": [
    {
     "name": "stdout",
     "output_type": "stream",
     "text": [
      "Result: %\".4\" = fdiv double %\".3\", 0x4000000000000000\n",
      "Generated LLVM IR:\n",
      "; ModuleID = \"expr_module\"\n",
      "target triple = \"unknown-unknown-unknown\"\n",
      "target datalayout = \"\"\n",
      "\n",
      "define void @\"main\"()\n",
      "{\n",
      "entry:\n",
      "  %\".2\" = fadd double 0x4000000000000000, 0x4010000000000000\n",
      "  %\".3\" = fmul double 0x4008000000000000, %\".2\"\n",
      "  %\".4\" = fdiv double %\".3\", 0x4000000000000000\n",
      "  ret void\n",
      "}\n",
      "\n"
     ]
    }
   ],
   "source": [
    "input_expr = \"3.0 * (2.0 + 4.0) / 2.0\"\n",
    "\n",
    "# Parse the input text\n",
    "parse_tree = expr_parser.parse(input_expr)\n",
    "\n",
    "# Generate LLVM IR\n",
    "expr_transformer = ExprTransformer()\n",
    "llvm_module = expr_transformer.transform(parse_tree)\n",
    "\n",
    "print(\"Generated LLVM IR:\")\n",
    "print(llvm_module)\n"
   ]
  },
  {
   "cell_type": "code",
   "execution_count": 7,
   "id": "c65904e0",
   "metadata": {},
   "outputs": [
    {
     "ename": "AttributeError",
     "evalue": "'Module' object has no attribute 'encode'",
     "output_type": "error",
     "traceback": [
      "\u001b[0;31m---------------------------------------------------------------------------\u001b[0m",
      "\u001b[0;31mAttributeError\u001b[0m                            Traceback (most recent call last)",
      "Cell \u001b[0;32mIn[7], line 9\u001b[0m\n\u001b[1;32m      6\u001b[0m llvmbinding\u001b[38;5;241m.\u001b[39minitialize_native_asmprinter()\n\u001b[1;32m      8\u001b[0m \u001b[38;5;66;03m# Load the LLVM IR module\u001b[39;00m\n\u001b[0;32m----> 9\u001b[0m module \u001b[38;5;241m=\u001b[39m \u001b[43mllvmbinding\u001b[49m\u001b[38;5;241;43m.\u001b[39;49m\u001b[43mparse_assembly\u001b[49m\u001b[43m(\u001b[49m\u001b[43mllvm_module\u001b[49m\u001b[43m)\u001b[49m\n\u001b[1;32m     11\u001b[0m \u001b[38;5;66;03m# Create a JIT compiler\u001b[39;00m\n\u001b[1;32m     12\u001b[0m target_machine \u001b[38;5;241m=\u001b[39m llvmbinding\u001b[38;5;241m.\u001b[39mTarget\u001b[38;5;241m.\u001b[39mfrom_default_triple()\u001b[38;5;241m.\u001b[39mcreate_target_machine()\n",
      "File \u001b[0;32m~/ChatGPT-Coding-Experiments/GPT-env/lib/python3.10/site-packages/llvmlite/binding/module.py:17\u001b[0m, in \u001b[0;36mparse_assembly\u001b[0;34m(llvmir, context)\u001b[0m\n\u001b[1;32m     15\u001b[0m \u001b[38;5;28;01mif\u001b[39;00m context \u001b[38;5;129;01mis\u001b[39;00m \u001b[38;5;28;01mNone\u001b[39;00m:\n\u001b[1;32m     16\u001b[0m     context \u001b[38;5;241m=\u001b[39m get_global_context()\n\u001b[0;32m---> 17\u001b[0m llvmir \u001b[38;5;241m=\u001b[39m \u001b[43m_encode_string\u001b[49m\u001b[43m(\u001b[49m\u001b[43mllvmir\u001b[49m\u001b[43m)\u001b[49m\n\u001b[1;32m     18\u001b[0m strbuf \u001b[38;5;241m=\u001b[39m c_char_p(llvmir)\n\u001b[1;32m     19\u001b[0m \u001b[38;5;28;01mwith\u001b[39;00m ffi\u001b[38;5;241m.\u001b[39mOutputString() \u001b[38;5;28;01mas\u001b[39;00m errmsg:\n",
      "File \u001b[0;32m~/ChatGPT-Coding-Experiments/GPT-env/lib/python3.10/site-packages/llvmlite/binding/common.py:5\u001b[0m, in \u001b[0;36m_encode_string\u001b[0;34m(s)\u001b[0m\n\u001b[1;32m      4\u001b[0m \u001b[38;5;28;01mdef\u001b[39;00m \u001b[38;5;21m_encode_string\u001b[39m(s):\n\u001b[0;32m----> 5\u001b[0m     encoded \u001b[38;5;241m=\u001b[39m \u001b[43ms\u001b[49m\u001b[38;5;241;43m.\u001b[39;49m\u001b[43mencode\u001b[49m(\u001b[38;5;124m'\u001b[39m\u001b[38;5;124mutf-8\u001b[39m\u001b[38;5;124m'\u001b[39m)\n\u001b[1;32m      6\u001b[0m     \u001b[38;5;28;01mreturn\u001b[39;00m encoded\n",
      "\u001b[0;31mAttributeError\u001b[0m: 'Module' object has no attribute 'encode'"
     ]
    }
   ],
   "source": [
    "import llvmlite.binding as llvmbinding\n",
    "\n",
    "# Initialize LLVM\n",
    "llvmbinding.initialize()\n",
    "llvmbinding.initialize_native_target()\n",
    "llvmbinding.initialize_native_asmprinter()\n",
    "\n",
    "# Load the LLVM IR module\n",
    "module = llvmbinding.parse_assembly(llvm_module)\n",
    "\n",
    "# Create a JIT compiler\n",
    "target_machine = llvmbinding.Target.from_default_triple().create_target_machine()\n",
    "engine = llvmbinding.create_mcjit_compiler(module, target_machine)\n",
    "\n",
    "# Compile and execute the `main` function\n",
    "engine.finalize_object()\n",
    "main_func = engine.get_function_address(\"main\")\n",
    "result = ctypes.CFUNCTYPE(ctypes.c_int32)(main_func)()\n",
    "\n",
    "print(\"Result:\", result)"
   ]
  },
  {
   "cell_type": "markdown",
   "id": "2caad8b8",
   "metadata": {},
   "source": [
    "Prompt:\n",
    "Can I make and axecutable"
   ]
  },
  {
   "cell_type": "code",
   "execution_count": null,
   "id": "a310fda8",
   "metadata": {},
   "outputs": [],
   "source": []
  }
 ],
 "metadata": {
  "kernelspec": {
   "display_name": "Python 3 (ipykernel)",
   "language": "python",
   "name": "python3"
  },
  "language_info": {
   "codemirror_mode": {
    "name": "ipython",
    "version": 3
   },
   "file_extension": ".py",
   "mimetype": "text/x-python",
   "name": "python",
   "nbconvert_exporter": "python",
   "pygments_lexer": "ipython3",
   "version": "3.10.6"
  }
 },
 "nbformat": 4,
 "nbformat_minor": 5
}
